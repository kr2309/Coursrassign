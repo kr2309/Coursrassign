{
 "cells": [
  {
   "cell_type": "markdown",
   "id": "6914d308-62c0-459d-8ef7-752248f906ca",
   "metadata": {},
   "source": [
    "My Jupiter Notebook"
   ]
  },
  {
   "cell_type": "markdown",
   "id": "c1c3fb81-0d81-406d-960f-8a56e58d5136",
   "metadata": {},
   "source": [
    "KARTHIK RAMESH DATA ANALYST"
   ]
  },
  {
   "cell_type": "markdown",
   "id": "c7c36a12-00e3-41f7-9d19-392d21f0da6d",
   "metadata": {},
   "source": [
    "Data Science interests me since it paves the way for better customer experience by providing better product assortments and at the right price giving market advantage"
   ]
  },
  {
   "cell_type": "markdown",
   "id": "468da373-042b-45ee-bf1b-0a582790b35c",
   "metadata": {},
   "source": [
    "Simple code to add two numbers"
   ]
  },
  {
   "cell_type": "code",
   "execution_count": 1,
   "id": "86074d61-fe76-4441-90ee-ca94cdbf9d59",
   "metadata": {},
   "outputs": [
    {
     "name": "stdout",
     "output_type": "stream",
     "text": [
      "5\n"
     ]
    }
   ],
   "source": [
    "a = 2\n",
    "b = 3\n",
    "c = a+b\n",
    "print(c)"
   ]
  },
  {
   "cell_type": "markdown",
   "id": "469967a7-0d81-4edd-9e89-bd081c96e25a",
   "metadata": {},
   "source": [
    "_____________________________________________________________\n",
    "\n",
    "- Tree\n",
    "- Lemon\n",
    "- Motorcycle\n",
    "- oil\n",
    "\n",
    "1. Pen\n",
    "2. Ink\n",
    "3. Eraser\n",
    "4. Marker\n",
    "5. Protractor"
   ]
  }
 ],
 "metadata": {
  "kernelspec": {
   "display_name": "Python",
   "language": "python",
   "name": "conda-env-python-py"
  },
  "language_info": {
   "codemirror_mode": {
    "name": "ipython",
    "version": 3
   },
   "file_extension": ".py",
   "mimetype": "text/x-python",
   "name": "python",
   "nbconvert_exporter": "python",
   "pygments_lexer": "ipython3",
   "version": "3.7.12"
  }
 },
 "nbformat": 4,
 "nbformat_minor": 5
}
